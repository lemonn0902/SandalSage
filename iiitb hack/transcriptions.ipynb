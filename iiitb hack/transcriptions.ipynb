{
  "nbformat": 4,
  "nbformat_minor": 0,
  "metadata": {
    "colab": {
      "provenance": [],
      "gpuType": "T4"
    },
    "kernelspec": {
      "name": "python3",
      "display_name": "Python 3"
    },
    "language_info": {
      "name": "python"
    },
    "accelerator": "GPU"
  },
  "cells": [
    {
      "cell_type": "code",
      "execution_count": null,
      "metadata": {
        "colab": {
          "base_uri": "https://localhost:8080/"
        },
        "id": "ANZ7Ryakin-s",
        "outputId": "ca2f6f81-ce9b-48d4-f1a4-c74bdecc0328",
        "collapsed": true
      },
      "outputs": [
        {
          "output_type": "stream",
          "name": "stdout",
          "text": [
            "Reading package lists... Done\n",
            "Building dependency tree... Done\n",
            "Reading state information... Done\n",
            "ffmpeg is already the newest version (7:4.4.2-0ubuntu0.22.04.1).\n",
            "0 upgraded, 0 newly installed, 0 to remove and 49 not upgraded.\n",
            "Collecting git+https://github.com/openai/whisper.git\n",
            "  Cloning https://github.com/openai/whisper.git to /tmp/pip-req-build-km0c1b9r\n",
            "  Running command git clone --filter=blob:none --quiet https://github.com/openai/whisper.git /tmp/pip-req-build-km0c1b9r\n",
            "  Resolved https://github.com/openai/whisper.git to commit 271445b2f24f00f8175c4fb7ae91876f7451dfc1\n",
            "  Installing build dependencies ... \u001b[?25l\u001b[?25hdone\n",
            "  Getting requirements to build wheel ... \u001b[?25l\u001b[?25hdone\n",
            "  Preparing metadata (pyproject.toml) ... \u001b[?25l\u001b[?25hdone\n",
            "Requirement already satisfied: numba in /usr/local/lib/python3.10/dist-packages (from openai-whisper==20240930) (0.60.0)\n",
            "Requirement already satisfied: numpy in /usr/local/lib/python3.10/dist-packages (from openai-whisper==20240930) (1.26.4)\n",
            "Requirement already satisfied: torch in /usr/local/lib/python3.10/dist-packages (from openai-whisper==20240930) (2.5.0+cu121)\n",
            "Requirement already satisfied: tqdm in /usr/local/lib/python3.10/dist-packages (from openai-whisper==20240930) (4.66.6)\n",
            "Requirement already satisfied: more-itertools in /usr/local/lib/python3.10/dist-packages (from openai-whisper==20240930) (10.5.0)\n",
            "Collecting tiktoken (from openai-whisper==20240930)\n",
            "  Downloading tiktoken-0.8.0-cp310-cp310-manylinux_2_17_x86_64.manylinux2014_x86_64.whl.metadata (6.6 kB)\n",
            "Collecting triton>=2.0.0 (from openai-whisper==20240930)\n",
            "  Downloading triton-3.1.0-cp310-cp310-manylinux_2_17_x86_64.manylinux2014_x86_64.whl.metadata (1.3 kB)\n",
            "Requirement already satisfied: filelock in /usr/local/lib/python3.10/dist-packages (from triton>=2.0.0->openai-whisper==20240930) (3.16.1)\n",
            "Requirement already satisfied: llvmlite<0.44,>=0.43.0dev0 in /usr/local/lib/python3.10/dist-packages (from numba->openai-whisper==20240930) (0.43.0)\n",
            "Requirement already satisfied: regex>=2022.1.18 in /usr/local/lib/python3.10/dist-packages (from tiktoken->openai-whisper==20240930) (2024.9.11)\n",
            "Requirement already satisfied: requests>=2.26.0 in /usr/local/lib/python3.10/dist-packages (from tiktoken->openai-whisper==20240930) (2.32.3)\n",
            "Requirement already satisfied: typing-extensions>=4.8.0 in /usr/local/lib/python3.10/dist-packages (from torch->openai-whisper==20240930) (4.12.2)\n",
            "Requirement already satisfied: networkx in /usr/local/lib/python3.10/dist-packages (from torch->openai-whisper==20240930) (3.4.2)\n",
            "Requirement already satisfied: jinja2 in /usr/local/lib/python3.10/dist-packages (from torch->openai-whisper==20240930) (3.1.4)\n",
            "Requirement already satisfied: fsspec in /usr/local/lib/python3.10/dist-packages (from torch->openai-whisper==20240930) (2024.10.0)\n",
            "Requirement already satisfied: sympy==1.13.1 in /usr/local/lib/python3.10/dist-packages (from torch->openai-whisper==20240930) (1.13.1)\n",
            "Requirement already satisfied: mpmath<1.4,>=1.1.0 in /usr/local/lib/python3.10/dist-packages (from sympy==1.13.1->torch->openai-whisper==20240930) (1.3.0)\n",
            "Requirement already satisfied: charset-normalizer<4,>=2 in /usr/local/lib/python3.10/dist-packages (from requests>=2.26.0->tiktoken->openai-whisper==20240930) (3.4.0)\n",
            "Requirement already satisfied: idna<4,>=2.5 in /usr/local/lib/python3.10/dist-packages (from requests>=2.26.0->tiktoken->openai-whisper==20240930) (3.10)\n",
            "Requirement already satisfied: urllib3<3,>=1.21.1 in /usr/local/lib/python3.10/dist-packages (from requests>=2.26.0->tiktoken->openai-whisper==20240930) (2.2.3)\n",
            "Requirement already satisfied: certifi>=2017.4.17 in /usr/local/lib/python3.10/dist-packages (from requests>=2.26.0->tiktoken->openai-whisper==20240930) (2024.8.30)\n",
            "Requirement already satisfied: MarkupSafe>=2.0 in /usr/local/lib/python3.10/dist-packages (from jinja2->torch->openai-whisper==20240930) (3.0.2)\n",
            "Downloading triton-3.1.0-cp310-cp310-manylinux_2_17_x86_64.manylinux2014_x86_64.whl (209.5 MB)\n",
            "\u001b[2K   \u001b[90m━━━━━━━━━━━━━━━━━━━━━━━━━━━━━━━━━━━━━━━━\u001b[0m \u001b[32m209.5/209.5 MB\u001b[0m \u001b[31m6.0 MB/s\u001b[0m eta \u001b[36m0:00:00\u001b[0m\n",
            "\u001b[?25hDownloading tiktoken-0.8.0-cp310-cp310-manylinux_2_17_x86_64.manylinux2014_x86_64.whl (1.2 MB)\n",
            "\u001b[2K   \u001b[90m━━━━━━━━━━━━━━━━━━━━━━━━━━━━━━━━━━━━━━━━\u001b[0m \u001b[32m1.2/1.2 MB\u001b[0m \u001b[31m55.5 MB/s\u001b[0m eta \u001b[36m0:00:00\u001b[0m\n",
            "\u001b[?25hBuilding wheels for collected packages: openai-whisper\n",
            "  Building wheel for openai-whisper (pyproject.toml) ... \u001b[?25l\u001b[?25hdone\n",
            "  Created wheel for openai-whisper: filename=openai_whisper-20240930-py3-none-any.whl size=803557 sha256=933e9c8b99b9ffd29fb97239dbf4c38ff7f85bc147aa443309f8984423965745\n",
            "  Stored in directory: /tmp/pip-ephem-wheel-cache-asjfoa33/wheels/8b/6c/d0/622666868c179f156cf595c8b6f06f88bc5d80c4b31dccaa03\n",
            "Successfully built openai-whisper\n",
            "Installing collected packages: triton, tiktoken, openai-whisper\n",
            "Successfully installed openai-whisper-20240930 tiktoken-0.8.0 triton-3.1.0\n",
            "Requirement already satisfied: torch in /usr/local/lib/python3.10/dist-packages (2.5.0+cu121)\n",
            "Requirement already satisfied: filelock in /usr/local/lib/python3.10/dist-packages (from torch) (3.16.1)\n",
            "Requirement already satisfied: typing-extensions>=4.8.0 in /usr/local/lib/python3.10/dist-packages (from torch) (4.12.2)\n",
            "Requirement already satisfied: networkx in /usr/local/lib/python3.10/dist-packages (from torch) (3.4.2)\n",
            "Requirement already satisfied: jinja2 in /usr/local/lib/python3.10/dist-packages (from torch) (3.1.4)\n",
            "Requirement already satisfied: fsspec in /usr/local/lib/python3.10/dist-packages (from torch) (2024.10.0)\n",
            "Requirement already satisfied: sympy==1.13.1 in /usr/local/lib/python3.10/dist-packages (from torch) (1.13.1)\n",
            "Requirement already satisfied: mpmath<1.4,>=1.1.0 in /usr/local/lib/python3.10/dist-packages (from sympy==1.13.1->torch) (1.3.0)\n",
            "Requirement already satisfied: MarkupSafe>=2.0 in /usr/local/lib/python3.10/dist-packages (from jinja2->torch) (3.0.2)\n"
          ]
        }
      ],
      "source": [
        "# Install ffmpeg for audio processing\n",
        "!apt-get install -y ffmpeg\n",
        "\n",
        "# Install OpenAI's Whisper and PyTorch\n",
        "!pip install git+https://github.com/openai/whisper.git\n",
        "!pip install torch\n"
      ]
    },
    {
      "cell_type": "code",
      "source": [],
      "metadata": {
        "id": "r7xOPgQ7zYc0"
      },
      "execution_count": null,
      "outputs": []
    },
    {
      "cell_type": "code",
      "source": [],
      "metadata": {
        "id": "IoC_oU4OzYwX"
      },
      "execution_count": null,
      "outputs": []
    },
    {
      "cell_type": "code",
      "source": [
        "from google.colab import drive\n",
        "drive.mount('/content/drive')\n"
      ],
      "metadata": {
        "colab": {
          "base_uri": "https://localhost:8080/"
        },
        "id": "A63k3Blzi_TO",
        "outputId": "102af326-4349-4d6c-9c9d-07c7bcc1716b",
        "collapsed": true
      },
      "execution_count": null,
      "outputs": [
        {
          "output_type": "stream",
          "name": "stdout",
          "text": [
            "Mounted at /content/drive\n"
          ]
        }
      ]
    },
    {
      "cell_type": "code",
      "source": [
        "import os\n",
        "import whisper  # Make sure whisper is installed and imported\n",
        "\n",
        "# Path to the folder containing your audio files\n",
        "folder_path = '/content/drive/MyDrive/folder_2'\n",
        "\n",
        "# Initialize the Whisper model\n",
        "model = whisper.load_model(\"medium\")  # Use 'small', 'medium', or 'large' as needed\n",
        "\n",
        "transcriptions = {}\n",
        "\n",
        "# Iterate through each file in the folder\n",
        "for file_name in os.listdir(folder_path):\n",
        "    if file_name.endswith('.mp3'):  # Add other audio formats if needed\n",
        "        file_path = os.path.join(folder_path, file_name)\n",
        "        result = model.transcribe(file_path, language=\"en\")\n",
        "        transcriptions[file_name] = result['text']\n",
        "\n",
        "# Print or save the transcriptions\n",
        "for file, transcription in transcriptions.items():\n",
        "    print(f\"{file}: {transcription}\\n\")\n"
      ],
      "metadata": {
        "colab": {
          "base_uri": "https://localhost:8080/"
        },
        "id": "ljkZg3TojPH_",
        "outputId": "65aef826-877c-43cc-a3fd-2681dd7d6f57",
        "collapsed": true
      },
      "execution_count": null,
      "outputs": [
        {
          "output_type": "stream",
          "name": "stderr",
          "text": [
            "/usr/local/lib/python3.10/dist-packages/whisper/__init__.py:150: FutureWarning: You are using `torch.load` with `weights_only=False` (the current default value), which uses the default pickle module implicitly. It is possible to construct malicious pickle data which will execute arbitrary code during unpickling (See https://github.com/pytorch/pytorch/blob/main/SECURITY.md#untrusted-models for more details). In a future release, the default value for `weights_only` will be flipped to `True`. This limits the functions that could be executed during unpickling. Arbitrary objects will no longer be allowed to be loaded via this mode unless they are explicitly allowlisted by the user via `torch.serialization.add_safe_globals`. We recommend you start setting `weights_only=True` for any use case where you don't have full control of the loaded file. Please open an issue on GitHub for any issues related to this experimental feature.\n",
            "  checkpoint = torch.load(fp, map_location=device)\n"
          ]
        },
        {
          "output_type": "stream",
          "name": "stdout",
          "text": [
            "SandalWoodNewsStories_23.mp3:  surface of nature. Ramesh who was a Christian, was doing a art called, Ganda dance. Ramesh who taught the youth, how to dance Sri Gandha, by dancing Sri Gandha, was also trained. As a result of his hard work, in the 1500 acres of Kushtagi, Sri Gandha is a very famous place. For Sri Gandha dance, more than 250 youths are involved. The youths are shown how to build a life from tree based agriculture. In the dance of Gandha, this Kanna house, which is surrounded by Sri Gandha's\n",
            "\n",
            "SandalWoodNewsStories_6.mp3:  A complete video about Blackwood will be uploaded. Many people have doubts about how to build it and where to build it. We will talk about that in the next video. Since we are making a video today, this is a very important video. We will discuss about the damage done in the last 3 years. How the sand was taken by the people who walked around the area in the last 3 years. Let's talk to this farmer. Basically, it's been 3 years. Yes, 3 years. How deep is it? Nearly about 1 feet. More than 1 feet. The main reason is the host. Here is the bunny. We showed in the last video how the bunny was taken down. It was sitting alone. Today, you can see that it is lying down. It is locked. Basically, what is happening here is that it is not planned to be put down. It is naturally taken down. But there is a tree there. You can see that. 3 feet. This is the key. This is also 3 years old. People don't believe it. I am not saying this. That's why I am asking the writer. Sir, come here. Please give an introduction. Basically, he is an agri diploma. He is a full-time farming type. The people who are interested in this are 11 acres. They are developing one acre. Please give an introduction about when and where you started. My name is Vishwanath Nagar. I am from Balakot district. This is 11 acres of land. We have grown rice and vegetables here. Next, we have a lime tree. This is a lime tree. Next, we have a palm tree. Next, we have a coconut tree. Next, we have a coconut tree. Next, we have a palm tree. Next, we have a palm tree. Next, we have a palm tree. werden goes, sago is there. Now... Our season four lamp Our season four lamp They have started from there. This is to buy a dontary Next, in 2019 started to be a three player for our two nom getirables here Another one was there and There is a tea plot in the forest. They have brought tea for tea. Forest department. Sandals are also there. They have brought tea from the forest. Along with this, they are growing rice. What is the difference between the tea and the smell? Sir, the smell is 10 feet. 10 feet sandal to sandal. Row to row space is same. 10 bettons means 430 plants per acre. In between, they are growing rice. That is 5 feet. 5 feet. They have planted a rice plant every 5 feet. That is also started from 2019. It is same. It is one year before that. Rice plant. They have planted rice first. That is 10 feet. In between, they are growing sandal. So, plant to plant. Each plant has 5 feet. But, 10 feet of rice is 10 feet of rice. Then, the first host is What did they give? Togari. It is one year later. Togari has planted rice for one year. Then, they have planted this. Come, let us see the garden. It is one year. It is not good. It is not good. It is not good. It is not good. It is not good. It is not good. It is not good. It is not good. It is 3 and half years. 4 years. It is 2019. You can see the growth. It is 4 years. We have decided. It is not completed. Within 4 years, it is a good growth. What we are planning for this? We are planning to give another host. But, along with that, we are planning for stress management. Because, the better the growth, the better the heart would be. When there is excess growth, heart formation will be lessened. The reason is tissues do not break down. Secondary metabolism is the tissue that is developed, which breaks down and heart formation is constant stress. Consistency is constant. You should be constantly stressed. You will be exhausted. If you get tired of the work, before that, after 12 years, if you have targeted it, if you want to cut it, then there is a chance of heart problem. It is extremely healthy. It is good in the initial stage. But, maintaining it like that is wrong. That is why, we are discussing what to do with secondary metabolism. Let us see. What these trees have done is simple. They have drained the extreme nutrients from sand. It seems that all trees are being drained from other trees. I will put some different species of trees. You can see here. This tree is almost 4 and half years old. That is 3 and half years. These 3 and half years old trees have already taken all the energy to grow. You can see the other side. Almost everything here is healthy. The smell is healthy and strong. That is called the marine or the mother. Basically, this is what is left here. If there is no secondary host, we plan to give a permanent host. We have given some vermi compost. We have given some coconut. One advantage is that it has grown already for 1 year. It has grown 3-4 feet. Left-right. After 1 year, we have taken it. After 1 year, we have taken it. After pruning, it has grown again. We have pruned it and that is the same. You have not given anything to the root zone. No fertilizer. We have done irrigation. We have done it in summer. We have done it in summer. In June, July, August, we have not given water. In summer, we have not given water. We have given water once or twice. What I am saying is that the leaf density is very low. If you want to see the difference between the two trees, look at this tree. There are many leaves in this tree. Even if there are only two trees, the activity of photosynthesis will definitely be less in this tree. If the age is like this, the growth will be stunted. It will be very less. The size of the leaves will also be bigger. The length and comparison. If you want to see the difference, boost up the soil. Boost up the soil. You will know the size of the leaves. There are some drops here. Here, full leaf drops. Ok. In another year, all this will go to your tree. It will go to Malabari. If we cut it now, it will come back. It is not small to make a phone call. It is not that big. Ok. What tree? There is a tree in the other side. Which side? The one in the middle. The one in the middle. We have done the phone call. We have a lot of problems. All the trees are dead. All the trees are dead. We have to cut them all. We have to cut them all. We have to cut them all. Ok. Malabari has been cut. You have already seen. They have grown with the smell. The smell in the forest is weak. But here, the border is visible. The trees on the right side. Why is it so beautiful? The answer is the light. The light is very important. If we want to grow a smell, we have to plan it from the beginning. That is why we are making this video. The host is not enough. You are watching. This is our tree and our bunny. It is so beautiful. Two reasons. One, the bunny tree is big. So, it gets more nutrients. It gets more energy. And it gets more light. So, it has been growing for 3 years. It is 1 feet tall. If we try it, it is the lowest number. I always say, do not cut it in 1 foot. It is not important to cut it in 1000 feet. You can cut it in 100 feet or 100 feet. You can make it in a good size. Or you can make it in a good shape. The purpose of this video is to give the farmers a little knowledge. The farmers need to get some help. The host needs to get the light, nutrients and the three main numbers. Do not go over the numbers. Do not put it in 1 foot or 600 feet. They have put it in 400 feet. The results are not there. The host is dying. Please remember this. Let us continue the video. Bunny. Now, we are checking the micro nutrients. Did you give the beetroot? Yes. Now, we are checking the DAPS. We gave only one. Then, nothing else.\n",
            "\n",
            "SandalWoodNewsStories_2.mp3:  It is around 50-60 cm long. It is a nice tree. It is a long tree. Can we use the seeds here for germination? Yes, you can use the seeds in this tree. You can use the seeds in this tree. This is a very good tree. The indication is that the bark will open up. The bark will open up. The heart would have started there. Clear indication. How did the heart root come here? The root is here. Is there any root in the tree? The root is about 1 inch above the root. The root is 3 inches. You can see the roots here. The root is about 4 inches. 4 inches from 3 inches. The root is 4 inches. The root is 3 inches. If you come here, it will grow 1 kg. If you come here, it will grow 1 kg. The root is 3 inches. The root is 3 inches. How much can it grow in the next 5 years? The growth is 1.73% in the next 5 years. The growth is 1.73% in the next 5 years. Some other places are not that much placed. We can vessel at the trusted plant. It can grow up to 1.73% more than the size of the plant. The first time we started using a chest 식으로 wax, the first time we started using a chest�로 inscription on the host countryside\n",
            "\n",
            "SandalWoodNewsStories_9.mp3:  Our children, parents and parents should live in that house. A house with a crore of houses. If you pay 50 lakhs, you get 1 kg gold. Put a kilo of gold on the two of them. We should give a message that our farmers also get a kilo of gold. If you have a 100 acres of land, you will get 100 houses built. How many people are there in Kansai? There are two families, two family and two family. We need to study for the next 그대.ation and grind leaves again. Why does it have plantations in that portion? Does it grow's dead? See the dirt there it may have passed. My wife's husband lives there. We heard stories that his fatherordum also grew tea. Really? 500 rupees 500 rupees is the price of the yard Sir, how much is this? This is the price The amount is here If you take out the nail 1000 rupees is the price of the yard This is the hybrid Pure dwarf variety The price is here Take it Here sir, beauty of Buy one get two free Buy one get two free This is one I will give this to you This is the dwarf variety It is growing If I put it in the corner One and two The scheme is not over yet The offer is still going on You can select the one there This is the concept Buy one get two free 2 lakhs I am happy to buy But we don't get happiness in the corner Let's get happiness in the corner Let's get What is the city 30-40 square feet above Here also Square inches The power to build the earth Every inch is worth it It will be free for 16 acres There is nothing to do There is nothing What to do Nothing We will die We will see Nature is taking care Taking care Nature is amazing All are Oh, it is a lion Lion It is a lion for me The boy is like a lion It is a little thick It is not good It is not good It is not good Take it We are all in the corner The camera is not working It is a lion It is a lion It is good for the ants It is good for the ants It is not good for the skin We are all in the corner It is not good for the skin What is the noise It is all smell It is all smell This is the process The soil here This is not good for the ants It is not good for the market No, sir It is good for the birds It is good for the birds It is good for the birds It is good for the ants Will you do it again? No, you will not It will be good for the ants It will eat and grow It is not good for the ants It will leave it alone It is good for birds It is good for birds It is good for birds We have not done anything It is good for the ants There are people coming here with plants They are picking the seeds They are picking the seeds Here the fertilizer is not good What we eat now These are birds We are all birds We are all birds We are all birds We eat the food We put a lot of drops The drops The microbes We multiply it We make it 100 rupees 100 rupees 1000 rupees 1000 rupees lakhs We do not have to do anything We have to create a good environment We have to create a good environment Many people complain about the farmers How did you do this for 20 years? I have done it For me it is the same I am a tall man My father-in-law came down to me My younger brother came down My uncle came down The soil is not good for the ants My uncle said I will give you sugar I will give you 20 to 30 drops I will give you a rate I will give you a rate What did I say? What did I say? If you give it to the birds The birds will not eat it Will the birds eat it? Will the birds eat it? Will the birds eat it? I said yes He said no He said he will give it to the birds I said yes I did not say anything before I said that the birds will eat it I said yes Otherwise they will sit and eat it Otherwise they will sit and eat it I came to Valladumara I will give you a rate I will give you a rate I have more I have more money They say that we will bring a lot of money Good idea Then They will take a lot Exactly I did not say anything before I said that you are a good man I said yes What is my intention? I want to build a sea I want to build a sea I want to take that sea to these beautiful animals I want to be a earthling I had a lot of money I did not know that I spent 500 rupees on this I was living with 1000 rupees But that was my profit If I had 500 rupees, I would have made 500 rupees profit What is my intention? Where is that? There is another question I will put the sea I will put the sea Do you want to build a sea? What I am saying is I have a house My son is from a small family He can get fruits He can get working capital He can get a lot of resources If he has 4 acres of land He can cultivate 3 acres of land He can cultivate one acre of land He can grow 3 crore trees or he can grow a FDT He can build a lot of houses If there are any problems in the family, then the income from that problem can be considered as a financial strength. Why shouldn't it be done? Why shouldn't it be done? Why shouldn't the farmer come as a reserve? A paan shop owner would have to pay 20 rupees a day for a pigmy. He would have to pay 100 rupees a day for a pigmy. A cutting shop owner would have to pay 100 rupees a day for a savings. But if there is a land of 16 acres and a 48 acres, then there is a savings of one day of the pigmy. The land is not cut, but the water is cut. The water is cut. That's what I am saying. If there are any problems in the family, if there are any problems in the family, then the income from that problem can be considered as a financial strength. So, what I am saying is, we are all second generation. We are all second generation. We are all second generation in farming and agriculture. We are all second generation in farming and agriculture. Our fathers, if we want to be good, then they have to work hard. We are living the result of their hard work. If they had worked hard, then they would have been able to grow 3 acres of land in 4 acres of land. I don't think they would have done much if they had done 100 acres. They would have been able to grow 1 fourth of the land in 4 acres. It is a real farming. Not just Srikandha, give Srikandha a 300 acres. Put different things in it. Put the name, water, lime, citaph, curry leaves. If you put a 300 acres, then we have not discussed anything. If you put a 300 acres, then it is 50 lakhs for 300 acres. If you put a 300 acres, it is 3 crores. If 300 acres is 3 crores, then I will have a dream. I don't need a dream. I need a dream to do something. You need a dream to talk. I need a dream. That gives me strength. I don't have money in my pocket. I have a dream. That gives me strength. I have a lot of money in my pocket. You don't have a dream. I don't have any hope. I will dream. I have no dream. I have no desire to talk. I have a dream. I will dream. He will dream for 1-2 hours in the morning and 5 hours in the night. He will dream. I will dream. I will dream. I will dream. I will dream. So, what I am saying is, I will get a dream visa. I will have a permanent relationship with the farmers. Different organizations will come, 100 or 100 farmers will come. They will come and work. Every three weeks, we have a group discussion. Every farmer will have problems with agriculture. What are the do's and don'ts? That's it. So, what I am saying is, every three weeks, at 9 am, we have a discussion about agriculture. Every three weeks, we have a discussion. We will give them food, feed them, free of cost. Every three weeks, we have a discussion. What I am saying is, if you have a dream visa, you can get 3 acres of land. Out of 4 acres, you can get 1 acre of land. You can do agriculture. 3 acres, what can you do? Seed production, oil, vegetables, floriculture, anything. You can do anything. 1 acre of land. You can get 1 acre of land. You can get 1 acre of land. You can get 1 acre of land. You can get 1 acre of land. You can plant prefer fruit. You can plant the sesame seeds. Different types of seeds. You can plant 300 sri ganda. In a year, that would mean more than 15 or 20 years. That would mean more than 15 or 20 years. We have a discussion. For a seed, you need 10 kg corn. In the year of 15, you need 10 kg corn. Within that, if you have 4% oil content, you need 10,000 rupees per kilo. KG. One lakhs is one crore. Three hundred crores. Three crores. What I am saying is, if you think about it, how can you put three crores as a state bank in the future of our family? If any unforeseen events happen to our family, if any disaster happens to our family, the economic power that comes from that disaster, if it is one day, it will be six years, eight years. Then, a wave of waves comes to your land. A wave comes to your land. There was a wave coming. A man from Munnur, eight years old, had a farm in Srikanth. A very strong self-confidence comes to you, a message to the society comes. After ten years, so many CCTV cameras, so many dogs, our little dogs, we will put them in the mud, we don't have to import dogs. We don't have to buy meat. We don't have to import dogs. We will put our little dogs in a dog's mouth, put the camera around them, and put them in the mud. Live fencing and windbreaker. It will take fifteen years, sixteen years, it will take three crores. What I dream of is, I will build a white house for one crore. For our small people. For a happy life, a happy life, a happy life. We should live only in our own. Our children, our parents, our parents should live in that house. A house for one crore. A life of good character. A life of self-respect. We should have that one real vision. One crore is a house. If you pay fifty lakhs, you get one kilo of gold. After two, you get one kg of gold. Our farmers should be reminded that they get one kg of gold. Why am I saying this? If they are doing it alone, if they are doing it for the sake of agriculture, they won't get anything. But we are saving our land. What? The farmers themselves. The land of the country. The land of the country. More than a crore of education, there is a lot of education. Victory to the farmers. Victory to the farmers. Victory to the farmers. Victory to the farmers. Victory to the farmers. But what is actually happening? The farmers are not getting what they are doing for the sake of agriculture. We should change that. How can we change that? If we do it alone, it won't work. We should be aware of that. We should get one kg of gold. We should not be afraid of anything. Even if others say, I am doing this, I will also get one kg of gold. We should be aware of that. One crore of gold. One kg of gold for 50 lakhs. Don't make 50 lakhs as property. Make it as a FD for the children. Don't be afraid to make a crore of property. Make the children property. Give them a good quality education. Give them a good quality education. The children will become property. Two crores. We have reached one crore. Do good business. Do good agriculture. Don't do anything bad. Don't do anything bad to anyone. Don't do anything bad to anyone. Don't do anything bad to anyone. Don't do anything bad to anyone. Either you are doing MLA or MP. White shirt. White pant. White boot. White slippers. They are doing MLA or MLA children. They are doing it like that. They are doing it without asking. They are doing it without asking. Boss, boss. Don't do anything bad. They are doing it like that. They are doing it without asking. They are doing it without asking. They are doing it without asking. We shouldn't do such a bad work. Even the blood of every son of the farmer is the result of his father and mother's hard work. We shouldn't go to such a poor house. So it's a big sin. So don't give money to anyone. Don't go to the self-employed. Don't go to the leader's house. Don't go to the leader's house. We should support the animals and birds. We should give them shelter. We should give them social responsibility. We should create a social job and make them financially happy. There is a financial life. There is a health life. There is a ideal life. Not only that, there is also a spiritual life. When he built a hut in the forest and left the soil and died, he was free to go to the forest. When he left the forest, he was free to go to the forest. He didn't go there. When you build a hut, your children will be born and they will be brought together. The animals and birds will give you shelter. You have built a hut, the animals and birds will give you shelter. The animals and birds will give you shelter and will see your world. They will pray to the Lord. The animals and birds will pray to the Lord. God, give this family good health. God, give this family happiness. God, give this family good life. God, give this family good life. The animals and birds will pray to God. Why do we say, happiness is a curse? Why do we say, more than a million students, there is no such thing as a hut. There is a financial life, health, support and spirituality. So, if we have a small land, we should not build a hut even if it is four acres. It is possible. If we have two acres of land, we should build 20 huts. Our elders say, our scholars say, our religious scholars say, that it is better to build a hut than to build a temple. A temple has a roof, a roof, a roof, a temple, a roof. It has everything. But, a hut is nothing. It does not give water, it does not give rain, it does not give air. The temple is built for the good of the society. It does not mean, that the person who built it will earn a happy life. If you build a hut, you will earn a happy life. this whole place is based in our land if we use our wealth and adorn it with a plastic piece then we can carry on this is not a big landlady I think he is not a good person. But he is capable. His family is different. Now his children are also different. I am already 40 years old. I was born in 1982. Wherever we went, we went here. We went to Belga, Darwada, Ubud. We came here after graduation. We went everywhere. We went to P.V.C, 10th, 10th, 10th grade. Now, we go everywhere. We go to Jawaharlal Nehru, Gandhiji, Nathuram, Ghotchan, Sardar Vallabhbhai Patel, Modi. We go everywhere. When we think about our mother, how she raised us, how she lived, how she lived her life, when we think about her children, we don't need anything else. We can build a better humanity. We can build a better humanity. We can't forget that humanity and its evil powers. We can't forget that humanity and its evil powers. We can't forget that humanity and its evil powers. This is a farming family. The reason is, the farming families are the ones who are the most powerful. Even the food they eat is fair. Even the food they eat is the result of the good deeds of the farmers. That's why there is that power. Even if we don't eat much, the farming family will be able to see the good deeds of the farmers. Sometimes they are cheating, sometimes they are trying to get rid of their bad deeds. We don't need to discuss that. You and I know that. But in the middle of all this, we can build a wonderful life. All these problems are in the middle. All these problems are in the middle. All these problems are in the middle. In the middle of all this, we can build a wonderful life. In the middle of all this, we can build a wonderful life. Sir, I forgot my banana. No, sir. I have a small banana. Come, let's have lunch. Come, let's have lunch. He has taken the banana. It's very hot. It's very hot. He has taken it. This is for the farmers. Our good friend, has given us food. Subscribe to our YouTube channel. Click the bell icon. If you want to know all the details about Kalamadhyama, visit www.kalamadhyama.com and get the interviews. Thank you for watching. Thank you for watching.\n",
            "\n",
            "SandalWoodNewsStories_1.mp3:  In Manabes, Srikandakurshi. You can get out of the water if you have very little water. You can get out of the water only if you don't have a borewell. If you have a camera in your hand, your eyes will be connected to the camera and your Aadhar number will be displayed. Yes, yes. The technology has been developed enough. We need Aadhar to talk. One kilo of Srikandakurshi, the Karnataka government is doing it in Karnataka itself. The rate of it is 5 lakh rupees per kg. We should have known. Sandalwood is a commercial name. We call it sandalwood. Australians call it sandalwood. Hawaiians call it sandalwood. This is a Vani-Jayasana, sandalwood. But our sandalwood is called Santalam Albam. Australians call it sandalwood. Santalam Spiketam. Hawaiians call it sandalwood. There are 16 varieties of Srikandakurshi in different parts of the world. Santalam Albam, Santalam Spiketam, Santalam SC. But our sandalwood is called Santalam Albam. This is called the queen of sandalwood. Today, the chemical composition of this is being developed. This is the association of the Asa. Santalol 95%, Santalin 4%, Santin 1%, which is the ideal chemical composition of sandalwood. The world's most developed Srikandha is available in Karnataka. The biological factors like soil, water and climate are being developed in the world. The wonderful atmosphere of the north is present in our Karnataka. In Karnataka, the land of sandalwood is the best of all. The land of sandalwood is the best of all. The land of sandalwood is the best of all. The land of sandalwood is great. From its Look, if you had the knowledge that you can get anything in the world, even a Guda-Matta Srikand, you would have got it in Kannada. You would have got it. Look, in us, there are Beavu, Alasu, Basiru, Banni, Ala, Harali, they are also known as wonderful. That is also a blessing to the living bird, a blessing to the environment. we are all growing here... We should alsoεd text motif your gift. on the Sores Simcula undermine tonight robot What sir? This is Paravalambi Sashi. It is basically semi-root parasite. It is basically parasitic in nature. Paravalambi? Yes, yes. We need to get more support for this. Is it? That's what we are trying. This is Paravalambi Sashi. It is basically semi-root parasite. This is Kuruchala Sashi. Even though there are big trees, but it is a small part of Kannada, Gandha and Chennai. Because the land, water and nature that is found in the whole world, the wonderful, natural environment that is found here, is here. The Udhkustha and Mantra sri ganda that is found here, is not found anywhere. I have grown 100 acres of sri ganda. And now we have 5,000 acres of sri ganda. This is India's biggest sandalwood cluster. Kopalajishti is India's biggest sandalwood cluster. There are three professors. Karnataka, Andhra and Tamilnadu. They are doing Ph.D. here. I will show you all. Today, all this is happening in the Aswara Krantri. This is one work. They are doing a conference on global warming. They are wearing boots and blazers. Some people are rubbing their hands, legs and clothes. This is a difficult work. They are talking and they are doing. About 1000 people are working on the forest. Kopalajillai is not a normal place. From the front, the smell spreads all over the world. This is the main place. Today, the sri ganda of Gunamatta, the soap, cosmetics, perfumes, powders, all products are produced here. The market is getting bigger all over the world. There is such power. We have taken the land of Dalimba from the world and made it into the world. This is the Dalimba headquarters. When you see all this, you will see the great achievements. Today, the world is 5,000 acres of land. We are talking about the current rate. We are giving 15,000 crores of products to the people. That power is in our land. This is the land. It has 5,000 crore worth products. We have a lot of economic life. We need to live a prosperous life. We need to live a life of prosperity. We need to live from that reality. Today, we are doing the sri ganda-based agriculture. We are doing the Sandalwood Centric Agroforestry Model. We are doing this. There is no difficulty in economic life. There is health, vision and spirituality in economic life. We need to give the life of the people, the environment and social responsibility. We need to give the people the social responsibility. We need to give the people the economic responsibility. That is the power. Why are we saying that agriculture is a bad thing? Why are we saying that we are above the education of millions of students? Why? Because in the same period, when we were here, when did we say this? When the computer arrived? It arrived. Today, due to the lack of money, the business is in a bad state. But when it comes to agriculture, we should be very respectful. Because the color of the birds is very low. Look, many public birds are there. Look at the shoes. Here, a cardan is built. If the farmer is living alone, a social responsibility is to take care of the social job. Why did the Corona come today? Why is the breath of the breath being so bad? Why is the cancer so high? It is a self-inflicted crime. Corona is not a problem. We should be able to overcome it. You should study it completely. Corona should come and be seen. We should be able to overcome the power of the Corona. This hybrid food, this pollution, this bad life, we should be able to overcome it. We had Corona for half a century. You will know when you study it deeply. Corona was there. But we don't have the courage to face it. What happened to the milk? Even if a small problem comes, we need tablets, we need a heart injection, when it comes to the cost of 5,000, Corona will come even more today. What is happening is, look at this, there is zero dust here. I was talking to my brother Rasool Anwar about this before you came. Here, there is zero dust. What do you see in Bengaluru? In Kopala district, there is Bishulu, Bargala, Dula, Go there. There is Badatana. Badatana, Kuspa. There is no water. No, that is wrong. It is an exchange. To give the world a smell, we are creating a Malaynad. We all have a high, full height. We should build a forest in Bishul. We should build a forest in Bharat. That forest should be a smelly forest. It should be a bad one. Yes. And it is possible. Because it is a very native species of us, and it is a very adaptable species. But? It is easy for us to get it. Yes, sir. And only in special occasions, this environment is very beautiful. Oh. There should not be any big problem. Yes, sir. Now, we have been told, if you get this much, you will get a lot of comments. When you spread this on YouTube, you will get comments like, this is a mistake, this is an exaggeration. Exaggerated figures. Yes, exaggeration. There will be so many comments. There should be a strong belief, self-confidence, and concentration on work. That is needed. I am not saying that I am talking about my studies. Oh. I am saying that I need a job. What is happening today is, we are watching TV. A big Srimanth, a big institution in some state, is going to be there. The IS is not going to be there. In a temple, they are going to be there. They are going to be ranked as the IS pass. Yes. Why? How? Strong belief, self-confidence, and concentration. We need a consistent effort. Oh. So, what is happening today is, Sri Gandha, we are the second generation, our father, Dalembe. Dalembe is our father, who has built a rich and prosperous life. He is the son of Devendra Prabhupada. In this part, the name of the person is known. Now, the National Dalembe Foundation is the foundation. The National Pome Grants Growers Association is the vice president. He has built a rich and prosperous life. But, he can also be a small farmer. He can be a farmer who has very little water. What I can say is, his self-confidence and his love for planting trees is that he can plant trees without any borewell. We need to work hard to make him a good farmer. We have done all that. We have done it. We have done it on the basis of forest. We have done it on the basis of forest. We are doing a project on the basis of forest. Can we do it on the basis of forest? How is that possible? It is not possible. We need something. We are doing a project on this. Step by step. He has built a dam on the basis of forest. There is no water source. There is no borewell. He is doing it with a lot of effort. But, in the middle of this, I am talking about Srikandha, and then I am talking about Thavukya. But, for this, we need a good situation. This is a land of smell. This is a land of smell. But, along with this, there is a great value in the way of conservation. There is a great value. There is a great value. Do you know what is the food? Sandalwood oil. A good smell of Srikandha. Today, KSDL is called as Moissu Sandal. Soaps and detergents. KSDL. They are retailing. 5g and 10g, 2 packs. Half a pack for 1 pack. Half a pack for 20000, half a pack for 50000. 10g? We need a good basis. Today, one pack of Srikandha costs 5000 rupees. 10g. 10g for 5000, 100g for 50000, 1000g for 50000. One kilo of Srikandha, the Karnataka government is doing it in Karnataka, at a rate of 5 lakh rupees per kg. We should know. Today, the Karnataka government is doing it in Karnataka, one kilo of Srikandha costs 5 lakh rupees. That is the price we pay for our work. That means, the honey is being harvested, the quality of the Srikandha is good, there is no harm in that, there is no disease. That is the way we do it. That is the rule. When we go there, there is no harm in that. But, because of the price, we are always in the management, when we are working on a project, we look at the strength, what is the strength of that project, what are the weaknesses, what are the opportunities, and what are the challenges. SWAT analysis. SWAT is SWAT analysis. Strength, weakness, opportunities, and threats. There are no threats, threats are challenges. SWAT became SWAT. That is challenge. If you go in this standard route, there is a challenge. Protection. Because it has a great value. A great value. If you do this, you will not get the government's property. Sir, here, in the government's property, it belongs to everyone, to the government, but not to anyone. Government. Not to anyone. Office. Everyone. Government office. Government hospital. That belongs to everyone. Why? I am coming from Kundur. Is it yours? It is ours. But not to anyone. He eats there and sleeps there. Why does he sleep there? Look at the hospital. How well it is built. All the walls are made of wood. Because this is the connection. That type of experience. What is happening now is, if there is a place for security, there is no job for that. That is a security trap. Public. Public property. What is happening here? I will give you all my Aadhar numbers. You have covered three cameras. What camera we have is, when your eyes and that camera are connected, your Aadhar numbers will come. Technology has developed enough. Technology has developed a lot. Today, the market is created. We are living in a global era. We are living in a global era. Globalization. Today we have to do the technology. Is it a camera? Is it a dog? It is not possible. Look. No, never. Impossible. Your eyes will not come to our eyes. Our eyes will not come to us. Our neighbors will not come to us. They know the way. Yes. Today, when I go to work, even here the workers are experienced. When I go to work, the one who will learn it is the one who is with us. We will see. So, where is the risk? There is a return. No risk, no returns. It will be equal. What has happened today is, because of the price, the search has been done. It is not there. It is not there. So, we have to take the necessary steps. We have to give knowledge there. Now we have opportunities. We have technology. We have all the technology. Today we can put cameras, sensors, traps, dogs, and we can do fencing. We don't have to build a compound for fencing. I will show you a bamboo saw. It is a thick bamboo. If we put it 5 feet deep, it will be 20 feet deep. It will be good for fencing, and windbreaker. Even a 20 feet tall tree can be built. It will be enough to put a tree. Yes. It is a thorny bamboo. We have to take all these steps. When we do it, we do it in a proper way. These are strawberry gauva. And star gooseberry. And these are cardamom, cloves, cinnamon. It is all spiced. It is called egg fruit. It is called egg fruit. It is called egg fruit. Egg fruit, canister. Yes. This is called Garcinia indica. It is also good for liver. It is good for liver. It is good for liver. It is good for liver. It is good for blood. It is called Garcinia indica. It is good for the nature. It is good for the nature. These are gooseberry. These are all spiced. These are not available to us. Sambar ingredients. In Bisilnayana. Here is the pachana. It is coming out wonderfully. Why is it not coming out? It is not coming out. You can see it here. This is Bisilnayana. This is Bharatanayana. It is coming out. But here is a Malayana atmosphere. Yes. It is like a western country. Malayana. I have a gooseberry. A gooseberry. Garcinia indica. It is all spiced. It is coming out. It is coming out. These are all Malayana species. Coffee. Gourd. Cucumber. These are all various varieties. This is a gooseberry. It is a flower bud. This is a gooseberry. It is growing on the ground? Yes. You came to Kopal district and shot here. This is a gooseberry. It is coming out in Malayana. I am also saying the same. But here... Seeing is believing. Coffee. Gourd. Coffee. It is coming out. It is like a coffee in Kopal. This is a waste of effort. Sir, there is a human. There is a human. It is like a vision. It is not a special case. It is not a special case. It is not a special case. It is not a special case. It is not a special case. It is a pepper. British came for this. They brought it here. Yes. We should create a natural environment. We need a shade and humidity. These are shade loving species. We need to create an environment. Water will be dumped here. This is the distribution. How do you get water? It is not necessary. It is the natural way. You don't have a canal? No. Water comes out. These are Bokowa fruit. These are red fruits. These are Sindhu. These are fine. These are Gidujuthi Mathadi. They look very good. They look very good. They look very good. These are Miracle fruit. Miracle fruit. These are Miracle fruit. What is this? This is mulching. If we want to plant, we need to plant. These are star fruit. These are flowers. This is ready to be planted. Star fruit. These are red custard apples. Kemp Siddha fruit. You see Siddha fruit. Red Siddha fruit. These are all apple. They grow everywhere. These are apple. HRMN99. HRMN99. This is the variety. This is the variety of the Bishle area. This is the variety of the Bishle area. This is the variety of the Bishle area. These are all red custard. These are all red custard. We thought they would grow. But they are growing. Can we plant them? Yes. These are all golden bamboo. Golden bamboo. Bimbusa bamboo. Buddha bamboo. There are many varieties of bamboo. There are many varieties. They will come. Will Siddha fruit come? Yes. I studied this. I saw you and thought I could not do it. But you came. I studied this. Correct? Thank you. Thank you.\n",
            "\n"
          ]
        }
      ]
    },
    {
      "cell_type": "code",
      "source": [
        "# Save transcriptions to a text file\n",
        "with open('/content/drive/MyDrive/transcriptions.txt', 'w') as f:\n",
        "    for file, transcription in transcriptions.items():\n",
        "        f.write(f\"{file}:\\n{transcription}\\n\\n\")\n",
        "\n",
        "# Import files module and download the text file\n",
        "from google.colab import files\n",
        "\n",
        "# Download the file to your local system\n",
        "files.download('/content/drive/MyDrive/transcriptions.txt')\n"
      ],
      "metadata": {
        "colab": {
          "base_uri": "https://localhost:8080/",
          "height": 17
        },
        "id": "eDpfeaUG2Sbj",
        "outputId": "268977c0-de47-483c-cfa2-a7e219c6eced"
      },
      "execution_count": null,
      "outputs": [
        {
          "output_type": "display_data",
          "data": {
            "text/plain": [
              "<IPython.core.display.Javascript object>"
            ],
            "application/javascript": [
              "\n",
              "    async function download(id, filename, size) {\n",
              "      if (!google.colab.kernel.accessAllowed) {\n",
              "        return;\n",
              "      }\n",
              "      const div = document.createElement('div');\n",
              "      const label = document.createElement('label');\n",
              "      label.textContent = `Downloading \"${filename}\": `;\n",
              "      div.appendChild(label);\n",
              "      const progress = document.createElement('progress');\n",
              "      progress.max = size;\n",
              "      div.appendChild(progress);\n",
              "      document.body.appendChild(div);\n",
              "\n",
              "      const buffers = [];\n",
              "      let downloaded = 0;\n",
              "\n",
              "      const channel = await google.colab.kernel.comms.open(id);\n",
              "      // Send a message to notify the kernel that we're ready.\n",
              "      channel.send({})\n",
              "\n",
              "      for await (const message of channel.messages) {\n",
              "        // Send a message to notify the kernel that we're ready.\n",
              "        channel.send({})\n",
              "        if (message.buffers) {\n",
              "          for (const buffer of message.buffers) {\n",
              "            buffers.push(buffer);\n",
              "            downloaded += buffer.byteLength;\n",
              "            progress.value = downloaded;\n",
              "          }\n",
              "        }\n",
              "      }\n",
              "      const blob = new Blob(buffers, {type: 'application/binary'});\n",
              "      const a = document.createElement('a');\n",
              "      a.href = window.URL.createObjectURL(blob);\n",
              "      a.download = filename;\n",
              "      div.appendChild(a);\n",
              "      a.click();\n",
              "      div.remove();\n",
              "    }\n",
              "  "
            ]
          },
          "metadata": {}
        },
        {
          "output_type": "display_data",
          "data": {
            "text/plain": [
              "<IPython.core.display.Javascript object>"
            ],
            "application/javascript": [
              "download(\"download_e3f4456a-e5cb-45a5-bba7-833444628bbb\", \"transcriptions.txt\", 40035)"
            ]
          },
          "metadata": {}
        }
      ]
    }
  ]
}